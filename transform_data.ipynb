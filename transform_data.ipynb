{
 "cells": [
  {
   "cell_type": "code",
   "execution_count": 52,
   "id": "6313ffc3",
   "metadata": {},
   "outputs": [],
   "source": [
    "import pandas as pd\n",
    "from sodapy import Socrata\n",
    "import os"
   ]
  },
  {
   "cell_type": "code",
   "execution_count": 53,
   "id": "750e71c3",
   "metadata": {},
   "outputs": [],
   "source": [
    "# Extract environment variables\n",
    "APP_TOKEN = os.getenv('APP_TOKEN')\n",
    "USERNAME = os.getenv('USERNAME')\n",
    "PASSWORD = os.getenv('PASSWORD')"
   ]
  },
  {
   "cell_type": "code",
   "execution_count": 54,
   "id": "f3c4b94d",
   "metadata": {},
   "outputs": [],
   "source": [
    "# Define which client/dataset to use \n",
    "CLIENT_IDENTIFIER=\"data.cityofnewyork.us\"\n",
    "DATASET_IDENTIFIER=\"vfnx-vebw\"\n",
    "\n",
    "# Limit for # of rows \n",
    "# limit=2000"
   ]
  },
  {
   "cell_type": "code",
   "execution_count": 55,
   "id": "7fdfa0b6",
   "metadata": {},
   "outputs": [],
   "source": [
    "# Get data with app token to avoid data limits on call \n",
    "client = Socrata(CLIENT_IDENTIFIER, APP_TOKEN, username=USERNAME, password=PASSWORD)\n",
    "results = client.get(DATASET_IDENTIFIER)#, limit=limit)"
   ]
  },
  {
   "cell_type": "code",
   "execution_count": 56,
   "id": "9c3c06a3",
   "metadata": {},
   "outputs": [],
   "source": [
    "# Convert data to Pandas dataframe\n",
    "results_df = pd.DataFrame.from_records(results)\n",
    "column_names=results_df.columns.values.tolist()"
   ]
  },
  {
   "cell_type": "code",
   "execution_count": 57,
   "id": "ceedffae",
   "metadata": {},
   "outputs": [
    {
     "name": "stdout",
     "output_type": "stream",
     "text": [
      "['x', 'y', 'unique_squirrel_id', 'hectare', 'shift', 'date', 'hectare_squirrel_number', 'combination_of_primary_and', 'running', 'chasing', 'climbing', 'eating', 'foraging', 'kuks', 'quaas', 'moans', 'tail_flags', 'tail_twitches', 'approaches', 'indifferent', 'runs_from', 'geocoded_column', ':@computed_region_f5dn_yrer', ':@computed_region_yeji_bk3q', ':@computed_region_92fq_4b7q', ':@computed_region_sbqj_enih', 'primary_fur_color', 'location', 'above_ground_sighter', 'age', 'color_notes', 'highlight_fur_color', 'specific_location', 'other_activities', 'other_interactions', ':@computed_region_efsh_h5xi']\n"
     ]
    }
   ],
   "source": [
    "print(results_df.columns.values.tolist())"
   ]
  },
  {
   "cell_type": "code",
   "execution_count": 58,
   "id": "062e92cf",
   "metadata": {},
   "outputs": [
    {
     "name": "stdout",
     "output_type": "stream",
     "text": [
      "    hectare  squirrel_count\n",
      "0       01A               1\n",
      "1       01B               5\n",
      "2       01C               3\n",
      "3       01D               5\n",
      "4       01E               1\n",
      "..      ...             ...\n",
      "301     42E               1\n",
      "302     42F               1\n",
      "303     42G               4\n",
      "304     42H               2\n",
      "305     42I               1\n",
      "\n",
      "[306 rows x 2 columns]\n"
     ]
    }
   ],
   "source": [
    "# Squirrels per hectare\n",
    "squirrels_per_hectare=results_df.groupby('hectare')['unique_squirrel_id'].count().reset_index(name=\"squirrel_count\")\n",
    "print(squirrels_per_hectare)\n"
   ]
  },
  {
   "cell_type": "code",
   "execution_count": 59,
   "id": "1d023d40",
   "metadata": {},
   "outputs": [
    {
     "name": "stdout",
     "output_type": "stream",
     "text": [
      "   above_ground_sighter  eating_squirrel_count\n",
      "0                     1                      1\n",
      "1                    10                      6\n",
      "2                    12                      1\n",
      "3                    13                      1\n",
      "4                    15                      7\n",
      "5                    18                      1\n",
      "6                     2                      4\n",
      "7                    25                      4\n",
      "8                     3                      4\n",
      "9                    30                      2\n",
      "10                   35                      1\n",
      "11                    4                      3\n",
      "12                   40                      2\n",
      "13                   50                      1\n",
      "14                    6                      2\n",
      "15                    7                      1\n",
      "16                    8                      1\n",
      "17                FALSE                    203\n"
     ]
    }
   ],
   "source": [
    "# Proportion of squirrels eating aboveground vs on the ground \n",
    "eating_counts = (results_df[results_df['eating'] == True].groupby('above_ground_sighter')['eating'].count().reset_index(name='eating_squirrel_count'))\n",
    "print(eating_counts)\n"
   ]
  },
  {
   "cell_type": "code",
   "execution_count": null,
   "id": "1c274995",
   "metadata": {},
   "outputs": [
    {
     "name": "stdout",
     "output_type": "stream",
     "text": [
      "    unique_squirrel_id  activity_score  running  chasing  climbing  eating  \\\n",
      "0       37F-PM-1014-03               0    False    False     False   False   \n",
      "1       21B-AM-1019-04               0    False    False     False   False   \n",
      "2       11B-PM-1014-08               1    False     True     False   False   \n",
      "3       32E-PM-1017-14               2    False    False     False    True   \n",
      "4       13E-AM-1017-05               1    False    False     False   False   \n",
      "..                 ...             ...      ...      ...       ...     ...   \n",
      "995     16D-AM-1007-01               2    False    False      True    True   \n",
      "996      3B-AM-1010-10               2    False    False     False    True   \n",
      "997     33D-AM-1017-03               1    False    False     False   False   \n",
      "998      2A-PM-1019-04               1     True    False     False   False   \n",
      "999      2A-AM-1010-08               2     True    False     False   False   \n",
      "\n",
      "     foraging  \n",
      "0       False  \n",
      "1       False  \n",
      "2       False  \n",
      "3        True  \n",
      "4        True  \n",
      "..        ...  \n",
      "995     False  \n",
      "996      True  \n",
      "997      True  \n",
      "998     False  \n",
      "999      True  \n",
      "\n",
      "[1000 rows x 7 columns]\n"
     ]
    }
   ],
   "source": [
    "# Number of activities squirrel is doing at once\n",
    "results_df['activity_score'] = results_df[['running', 'chasing', 'climbing', 'eating', 'foraging']].sum(axis=1)\n",
    "print(results_df[['unique_squirrel_id','activity_score', 'running', 'chasing', 'climbing', 'eating', 'foraging']])"
   ]
  }
 ],
 "metadata": {
  "kernelspec": {
   "display_name": "myenv",
   "language": "python",
   "name": "python3"
  },
  "language_info": {
   "codemirror_mode": {
    "name": "ipython",
    "version": 3
   },
   "file_extension": ".py",
   "mimetype": "text/x-python",
   "name": "python",
   "nbconvert_exporter": "python",
   "pygments_lexer": "ipython3",
   "version": "3.13.9"
  }
 },
 "nbformat": 4,
 "nbformat_minor": 5
}
