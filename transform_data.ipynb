{
 "cells": [
  {
   "cell_type": "code",
   "execution_count": 1,
   "id": "6313ffc3",
   "metadata": {},
   "outputs": [],
   "source": [
    "import pandas as pd\n",
    "from sodapy import Socrata\n",
    "import os"
   ]
  },
  {
   "cell_type": "code",
   "execution_count": 2,
   "id": "750e71c3",
   "metadata": {},
   "outputs": [],
   "source": [
    "# Extract environment variables\n",
    "APP_TOKEN = os.getenv('APP_TOKEN')\n",
    "USERNAME = os.getenv('USERNAME')\n",
    "PASSWORD = os.getenv('PASSWORD')"
   ]
  },
  {
   "cell_type": "code",
   "execution_count": 3,
   "id": "f3c4b94d",
   "metadata": {},
   "outputs": [],
   "source": [
    "# Define which client/dataset to use \n",
    "CLIENT_IDENTIFIER=\"data.cityofnewyork.us\"\n",
    "DATASET_IDENTIFIER=\"vfnx-vebw\"\n",
    "\n",
    "# Limit for # of rows \n",
    "limit=2000"
   ]
  },
  {
   "cell_type": "code",
   "execution_count": 4,
   "id": "7fdfa0b6",
   "metadata": {},
   "outputs": [],
   "source": [
    "# Get data with app token to avoid data limits on call \n",
    "client = Socrata(CLIENT_IDENTIFIER, APP_TOKEN, username=USERNAME, password=PASSWORD)\n",
    "results = client.get(DATASET_IDENTIFIER, limit=limit)"
   ]
  },
  {
   "cell_type": "code",
   "execution_count": 6,
   "id": "9c3c06a3",
   "metadata": {},
   "outputs": [],
   "source": [
    "results_df = pd.DataFrame.from_records(results)"
   ]
  }
 ],
 "metadata": {
  "kernelspec": {
   "display_name": "myenv",
   "language": "python",
   "name": "python3"
  },
  "language_info": {
   "codemirror_mode": {
    "name": "ipython",
    "version": 3
   },
   "file_extension": ".py",
   "mimetype": "text/x-python",
   "name": "python",
   "nbconvert_exporter": "python",
   "pygments_lexer": "ipython3",
   "version": "3.13.9"
  }
 },
 "nbformat": 4,
 "nbformat_minor": 5
}
