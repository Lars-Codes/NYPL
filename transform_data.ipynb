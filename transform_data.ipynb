{
 "cells": [
  {
   "cell_type": "code",
   "execution_count": 106,
   "id": "6313ffc3",
   "metadata": {},
   "outputs": [],
   "source": [
    "import pandas as pd\n",
    "from sodapy import Socrata\n",
    "import os\n",
    "from scipy.spatial import cKDTree\n",
    "import endpoints\n",
    "import geopandas as gpd\n",
    "import numpy as np "
   ]
  },
  {
   "cell_type": "code",
   "execution_count": 107,
   "id": "750e71c3",
   "metadata": {},
   "outputs": [],
   "source": [
    "# Extract environment variables\n",
    "APP_TOKEN = os.getenv('APP_TOKEN')\n",
    "USERNAME = os.getenv('USERNAME')\n",
    "PASSWORD = os.getenv('PASSWORD')"
   ]
  },
  {
   "cell_type": "code",
   "execution_count": 108,
   "id": "7fdfa0b6",
   "metadata": {},
   "outputs": [],
   "source": [
    "# Get data with app token to avoid data limits on call \n",
    "client = Socrata(endpoints.CLIENT_IDENTIFIER, APP_TOKEN, username=USERNAME, password=PASSWORD)\n",
    "squirrel_census_results = client.get(endpoints.SQUIRREL_DATASET_IDENTIFIER)\n",
    "tree_census_results = client.get(endpoints.TREE_CENSUS_DATASET_IDENTIFIER)"
   ]
  },
  {
   "cell_type": "code",
   "execution_count": 109,
   "id": "9c3c06a3",
   "metadata": {},
   "outputs": [],
   "source": [
    "# Convert data to Pandas dataframe\n",
    "squirrel_census_results_df = pd.DataFrame.from_records(squirrel_census_results)\n",
    "squirrel_column_names=squirrel_census_results_df.columns.values.tolist()\n",
    "\n",
    "tree_census_results_df = pd.DataFrame.from_records(tree_census_results)\n",
    "tree_column_names=tree_census_results_df.columns.values.tolist()"
   ]
  },
  {
   "cell_type": "code",
   "execution_count": 110,
   "id": "ceedffae",
   "metadata": {},
   "outputs": [
    {
     "name": "stdout",
     "output_type": "stream",
     "text": [
      "['tree_id', 'block_id', 'created_at', 'tree_dbh', 'stump_diam', 'curb_loc', 'status', 'health', 'spc_latin', 'spc_common', 'steward', 'guards', 'sidewalk', 'user_type', 'problems', 'root_stone', 'root_grate', 'root_other', 'trunk_wire', 'trnk_light', 'trnk_other', 'brch_light', 'brch_shoe', 'brch_other', 'address', 'zipcode', 'zip_city', 'cb_num', 'borocode', 'boroname', 'cncldist', 'st_assem', 'st_senate', 'nta', 'nta_name', 'boro_ct', 'state', 'latitude', 'longitude', 'x_sp', 'y_sp', 'council_district', 'census_tract', 'bin', 'bbl']\n"
     ]
    }
   ],
   "source": [
    "print(tree_census_results_df.columns.values.tolist())"
   ]
  },
  {
   "cell_type": "code",
   "execution_count": 111,
   "id": "062e92cf",
   "metadata": {},
   "outputs": [],
   "source": [
    "# Squirrels per hectare\n",
    "squirrels_per_hectare=squirrel_census_results_df.groupby('hectare')['unique_squirrel_id'].count().reset_index(name=\"squirrel_count\")\n",
    "squirrels_per_hectare.to_csv(\"squirrels_per_hectare.csv\", index=False)"
   ]
  },
  {
   "cell_type": "code",
   "execution_count": 112,
   "id": "1d023d40",
   "metadata": {},
   "outputs": [],
   "source": [
    "# Proportion of squirrels eating aboveground vs on the ground \n",
    "eating_counts = (squirrel_census_results_df[squirrel_census_results_df['eating'] == True].groupby('above_ground_sighter')['eating'].count().reset_index(name='eating_squirrel_count'))\n",
    "eating_counts.to_csv(\"num_squirrels_eating_per_elevation_aboveground.csv\", index=False)"
   ]
  },
  {
   "cell_type": "code",
   "execution_count": 113,
   "id": "1c274995",
   "metadata": {},
   "outputs": [],
   "source": [
    "# Number of activities squirrel is doing at once\n",
    "squirrel_census_results_df['activity_score'] = squirrel_census_results_df[['running', 'chasing', 'climbing', 'eating', 'foraging']].sum(axis=1)"
   ]
  },
  {
   "cell_type": "code",
   "execution_count": 114,
   "id": "380798e1",
   "metadata": {},
   "outputs": [],
   "source": [
    "# Parse date field so its more human readable\n",
    "squirrel_census_results_df['date'] = pd.to_datetime(squirrel_census_results_df['date'], format='%m%d%Y')\n",
    "squirrel_census_results_df['year'] = squirrel_census_results_df['date'].dt.year\n",
    "squirrel_census_results_df['month'] = squirrel_census_results_df['date'].dt.month\n",
    "squirrel_census_results_df['day'] = squirrel_census_results_df['date'].dt.day\n",
    "squirrel_census_results_df['weekday'] = squirrel_census_results_df['date'].dt.day_name()"
   ]
  },
  {
   "cell_type": "code",
   "execution_count": 115,
   "id": "57ff88bf",
   "metadata": {},
   "outputs": [],
   "source": [
    "# Get all aboveground squirrels and manhattan trees\n",
    "above_ground_df = squirrel_census_results_df[squirrel_census_results_df['location'] == 'Above Ground'].copy()\n",
    "manhattan_trees_df = tree_census_results_df[tree_census_results_df['boroname']=='Manhattan'].copy()\n",
    "\n",
    "# Coordinates of above-ground squirrels and trees \n",
    "squirrel_coords = above_ground_df[['x','y']].values\n",
    "tree_coords = manhattan_trees_df[['latitude','longitude']].values\n",
    "\n",
    "# Get GeoDataFrames\n",
    "squirrels_gdf = gpd.GeoDataFrame(\n",
    "    above_ground_df,\n",
    "    geometry=gpd.points_from_xy(above_ground_df['x'], above_ground_df['y']), # x=lon, y=lat\n",
    "    crs=\"EPSG:4326\"\n",
    ")\n",
    "trees_gdf = gpd.GeoDataFrame(\n",
    "    manhattan_trees_df,\n",
    "    geometry=gpd.points_from_xy(manhattan_trees_df['longitude'], manhattan_trees_df['latitude']),\n",
    "    crs=\"EPSG:4326\"\n",
    ")\n",
    "\n",
    "# Project distances to meters \n",
    "squirrels_gdf = squirrels_gdf.to_crs(epsg=3857)\n",
    "trees_gdf = trees_gdf.to_crs(epsg=3857)\n",
    "\n",
    "# Get tree and squirrel coordinates \n",
    "tree_coords = np.array([(p.x, p.y) for p in trees_gdf.geometry])\n",
    "squirrel_coords = np.array([(p.x, p.y) for p in squirrels_gdf.geometry])\n",
    "\n",
    "# Get distances to nearest tree \n",
    "tree_kdtree = cKDTree(tree_coords)\n",
    "distances, indices = tree_kdtree.query(squirrel_coords)\n",
    "\n",
    "# Assign nearest tree ID and distance in meters\n",
    "squirrels_gdf['nearest_tree'] = trees_gdf.iloc[indices]['tree_id'].values\n",
    "squirrels_gdf['distance_meters'] = distances\n",
    "\n",
    "# merge into dataset \n",
    "squirrel_census_results_df = squirrel_census_results_df.merge(\n",
    "    squirrels_gdf[['unique_squirrel_id','nearest_tree','distance_meters']],\n",
    "    on='unique_squirrel_id',\n",
    "    how='left'\n",
    ")\n",
    "\n",
    "# Sort the DataFrame by distance in ascending order\n",
    "squirrel_census_results_df.to_csv(\"squirrel_census_transformed.csv\", index=False)"
   ]
  },
  {
   "cell_type": "code",
   "execution_count": null,
   "id": "2fdec9d1",
   "metadata": {},
   "outputs": [],
   "source": []
  }
 ],
 "metadata": {
  "kernelspec": {
   "display_name": "myenv",
   "language": "python",
   "name": "python3"
  },
  "language_info": {
   "codemirror_mode": {
    "name": "ipython",
    "version": 3
   },
   "file_extension": ".py",
   "mimetype": "text/x-python",
   "name": "python",
   "nbconvert_exporter": "python",
   "pygments_lexer": "ipython3",
   "version": "3.13.9"
  }
 },
 "nbformat": 4,
 "nbformat_minor": 5
}
